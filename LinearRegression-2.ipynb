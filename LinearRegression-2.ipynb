{
  "nbformat": 4,
  "nbformat_minor": 0,
  "metadata": {
    "colab": {
      "provenance": [],
      "authorship_tag": "ABX9TyMfIlkHg1C7rlzNuRtkIpx2",
      "include_colab_link": true
    },
    "kernelspec": {
      "name": "python3",
      "display_name": "Python 3"
    },
    "language_info": {
      "name": "python"
    }
  },
  "cells": [
    {
      "cell_type": "markdown",
      "metadata": {
        "id": "view-in-github",
        "colab_type": "text"
      },
      "source": [
        "<a href=\"https://colab.research.google.com/github/RidhaAnsar/MachineLearning/blob/main/LinearRegression-2.ipynb\" target=\"_parent\"><img src=\"https://colab.research.google.com/assets/colab-badge.svg\" alt=\"Open In Colab\"/></a>"
      ]
    },
    {
      "cell_type": "code",
      "execution_count": 7,
      "metadata": {
        "colab": {
          "base_uri": "https://localhost:8080/"
        },
        "id": "1A1BWf8o_G4i",
        "outputId": "f4bb263a-ddab-4a65-cdae-4dcbe81e0805"
      },
      "outputs": [
        {
          "output_type": "stream",
          "name": "stdout",
          "text": [
            "          Car       Model  Volume  Weight  CO2\n",
            "0      Toyoty        Aygo    1000     790   99\n",
            "1  Mitsubishi  Space Star    1200    1160   95\n",
            "2       Skoda      Citigo    1000     929   95\n",
            "3        Fiat         500     900     865   90\n",
            "4        Mini      Cooper    1500    1140  105\n",
            "Coefficients: [0.00755095 0.00780526]\n",
            "Intercept: 79.69471929115939\n",
            "Predicted CO2 emissions for a car with weight 2300 kg and volume 1300 cm3: 107.21 g/km\n"
          ]
        }
      ],
      "source": [
        "import pandas as pd\n",
        "import numpy as np\n",
        "from sklearn.linear_model import LinearRegression\n",
        "df = pd.read_csv('cars.csv')\n",
        "print(df.head())\n",
        "X = df[['Weight', 'Volume']]\n",
        "y = df['CO2']\n",
        "model = LinearRegression()\n",
        "model.fit(X, y)\n",
        "print(f'Coefficients: {model.coef_}')\n",
        "print(f'Intercept: {model.intercept_}')\n",
        "prediction_data = pd.DataFrame({'Weight': [2300], 'Volume': [1300]})\n",
        "predicted_emissions = model.predict(prediction_data)\n",
        "print(f'Predicted CO2 emissions for a car with weight 2300 kg and volume 1300 cm3: {predicted_emissions[0]:.2f} g/km')\n"
      ]
    }
  ]
}